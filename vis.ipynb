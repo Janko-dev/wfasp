{
 "cells": [
  {
   "cell_type": "code",
   "execution_count": 29,
   "metadata": {},
   "outputs": [
    {
     "data": {
      "text/plain": [
       "<matplotlib.image.AxesImage at 0x1e0c9bf6dc0>"
      ]
     },
     "execution_count": 29,
     "metadata": {},
     "output_type": "execute_result"
    },
    {
     "data": {
      "image/png": "[encoded data removed]",
      "text/plain": [
       "<Figure size 640x480 with 1 Axes>"
      ]
     },
     "metadata": {},
     "output_type": "display_data"
    }
   ],
   "source": [
    "import numpy as np\n",
    "import matplotlib.pyplot as plt\n",
    "import sys\n",
    "import json\n",
    "\n",
    "# file_name = sys.argv[1]\n",
    "file_name = \"output.json\"\n",
    "f = open(file_name)\n",
    "\n",
    "colors = {\n",
    "    'a': 0,\n",
    "    'b': 1,\n",
    "    'c': 2\n",
    "}\n",
    "\n",
    "data = json.load(f)\n",
    "\n",
    "data = data[\"Call\"][-1][\"Witnesses\"][-1][\"Value\"]\n",
    "data = [[colors[x] for x in el[10:-1].split(\",\") if x.isalpha()] for el in data if el[0] == 'c']\n",
    "\n",
    "data = np.array(data).reshape((2, 3))\n",
    "\n",
    "plt.imshow(data)"
   ]
  },
  {
   "cell_type": "code",
   "execution_count": 60,
   "metadata": {},
   "outputs": [
    {
     "name": "stdout",
     "output_type": "stream",
     "text": [
      "rule(a, right, b).\n",
      "rule(b, up, a).\n",
      "rule(b, down, c).\n",
      "rule(b, left, b).\n",
      "rule(b, up, b).\n",
      "rule(b, right, c).\n",
      "rule(a, right, a).\n",
      "rule(b, down, b).\n",
      "rule(b, left, a).\n",
      "rule(a, left, a).\n",
      "rule(c, left, b).\n",
      "rule(a, up, a).\n",
      "rule(a, down, b).\n",
      "rule(b, right, b).\n",
      "rule(a, down, a).\n",
      "rule(c, up, b).\n",
      "\n",
      "state(a).\n",
      "state(b).\n",
      "state(c).\n"
     ]
    }
   ],
   "source": [
    "class Rule:\n",
    "    def __init__(self, base, neighbour, dir):\n",
    "        self.base = base\n",
    "        self.neighbour = neighbour\n",
    "        self.dir = dir\n",
    "    \n",
    "    def __repr__(self) -> str:\n",
    "        return f\"rule({self.base}, {self.dir}, {self.neighbour}).\"\n",
    "    \n",
    "    def __hash__(self):\n",
    "        return hash(self.__repr__())\n",
    "    \n",
    "    def __eq__(self, other):\n",
    "        return (isinstance(other, Rule) and\n",
    "                (self.base == other.base) and \n",
    "                (self.neighbour == other.neighbour) and \n",
    "                (self.dir == other.dir))\n",
    "\n",
    "file_name = \"input.json\"\n",
    "f = open(file_name)\n",
    "data = json.load(f)\n",
    "\n",
    "rules = set()\n",
    "states = set()\n",
    "\n",
    "grid = data[\"pattern\"]\n",
    "height = len(data[\"pattern\"])\n",
    "width = len(data[\"pattern\"][0])\n",
    "\n",
    "\n",
    "for i in range(len(grid)):\n",
    "    for j in range(len(grid[i])):\n",
    "\n",
    "        states.add(grid[i][j])\n",
    "\n",
    "        if i - 1 >= 0:\n",
    "            rules.add(Rule(grid[i][j], grid[i-1][j], \"up\"))\n",
    "        if i + 1 < height:\n",
    "            rules.add(Rule(grid[i][j], grid[i+1][j], \"down\"))\n",
    "        if j - 1 >= 0:\n",
    "            rules.add(Rule(grid[i][j], grid[i][j-1], \"left\"))\n",
    "        if j + 1 < width:\n",
    "            rules.add(Rule(grid[i][j], grid[i][j+1], \"right\"))\n",
    "        \n",
    "\n",
    "f = open(f\"{data['file_name']}.lp\", \"w\")\n",
    "\n",
    "\n",
    "output = \"\\n\".join(map(lambda rule: rule.__repr__(), rules))\n",
    "output += \"\\n\\n\" + \"\\n\".join([f\"state({s}).\" for s in states])\n",
    "print(output)\n",
    "\n",
    "f.write(output)\n",
    "f.close()"
   ]
  }
 ],
 "metadata": {
  "kernelspec": {
   "display_name": "base",
   "language": "python",
   "name": "python3"
  },
  "language_info": {
   "codemirror_mode": {
    "name": "ipython",
    "version": 3
   },
   "file_extension": ".py",
   "mimetype": "text/x-python",
   "name": "python",
   "nbconvert_exporter": "python",
   "pygments_lexer": "ipython3",
   "version": "3.9.16"
  },
  "orig_nbformat": 4
 },
 "nbformat": 4,
 "nbformat_minor": 2
}
