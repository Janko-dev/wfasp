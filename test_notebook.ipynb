{
 "cells": [
  {
   "cell_type": "code",
   "execution_count": 1,
   "metadata": {},
   "outputs": [
    {
     "ename": "FileNotFoundError",
     "evalue": "[Errno 2] No such file or directory: 'output.json'",
     "output_type": "error",
     "traceback": [
      "\u001b[1;31m---------------------------------------------------------------------------\u001b[0m",
      "\u001b[1;31mFileNotFoundError\u001b[0m                         Traceback (most recent call last)",
      "\u001b[1;32mc:\\Users\\baljanj\\OneDrive - Zuyd Hogeschool\\Dev\\wfasp\\test_notebook.ipynb Cell 1\u001b[0m line \u001b[0;36m8\n\u001b[0;32m      <a href='vscode-notebook-cell:/c%3A/Users/baljanj/OneDrive%20-%20Zuyd%20Hogeschool/Dev/wfasp/test_notebook.ipynb#W0sZmlsZQ%3D%3D?line=5'>6</a>\u001b[0m \u001b[39m# file_name = sys.argv[1]\u001b[39;00m\n\u001b[0;32m      <a href='vscode-notebook-cell:/c%3A/Users/baljanj/OneDrive%20-%20Zuyd%20Hogeschool/Dev/wfasp/test_notebook.ipynb#W0sZmlsZQ%3D%3D?line=6'>7</a>\u001b[0m file_name \u001b[39m=\u001b[39m \u001b[39m\"\u001b[39m\u001b[39moutput.json\u001b[39m\u001b[39m\"\u001b[39m\n\u001b[1;32m----> <a href='vscode-notebook-cell:/c%3A/Users/baljanj/OneDrive%20-%20Zuyd%20Hogeschool/Dev/wfasp/test_notebook.ipynb#W0sZmlsZQ%3D%3D?line=7'>8</a>\u001b[0m f \u001b[39m=\u001b[39m \u001b[39mopen\u001b[39;49m(file_name)\n\u001b[0;32m     <a href='vscode-notebook-cell:/c%3A/Users/baljanj/OneDrive%20-%20Zuyd%20Hogeschool/Dev/wfasp/test_notebook.ipynb#W0sZmlsZQ%3D%3D?line=9'>10</a>\u001b[0m colors \u001b[39m=\u001b[39m {\n\u001b[0;32m     <a href='vscode-notebook-cell:/c%3A/Users/baljanj/OneDrive%20-%20Zuyd%20Hogeschool/Dev/wfasp/test_notebook.ipynb#W0sZmlsZQ%3D%3D?line=10'>11</a>\u001b[0m     \u001b[39m'\u001b[39m\u001b[39ma\u001b[39m\u001b[39m'\u001b[39m: \u001b[39m0\u001b[39m,\n\u001b[0;32m     <a href='vscode-notebook-cell:/c%3A/Users/baljanj/OneDrive%20-%20Zuyd%20Hogeschool/Dev/wfasp/test_notebook.ipynb#W0sZmlsZQ%3D%3D?line=11'>12</a>\u001b[0m     \u001b[39m'\u001b[39m\u001b[39mb\u001b[39m\u001b[39m'\u001b[39m: \u001b[39m1\u001b[39m,\n\u001b[0;32m     <a href='vscode-notebook-cell:/c%3A/Users/baljanj/OneDrive%20-%20Zuyd%20Hogeschool/Dev/wfasp/test_notebook.ipynb#W0sZmlsZQ%3D%3D?line=12'>13</a>\u001b[0m     \u001b[39m'\u001b[39m\u001b[39mc\u001b[39m\u001b[39m'\u001b[39m: \u001b[39m2\u001b[39m\n\u001b[0;32m     <a href='vscode-notebook-cell:/c%3A/Users/baljanj/OneDrive%20-%20Zuyd%20Hogeschool/Dev/wfasp/test_notebook.ipynb#W0sZmlsZQ%3D%3D?line=13'>14</a>\u001b[0m }\n\u001b[0;32m     <a href='vscode-notebook-cell:/c%3A/Users/baljanj/OneDrive%20-%20Zuyd%20Hogeschool/Dev/wfasp/test_notebook.ipynb#W0sZmlsZQ%3D%3D?line=15'>16</a>\u001b[0m data \u001b[39m=\u001b[39m json\u001b[39m.\u001b[39mload(f)\n",
      "File \u001b[1;32mc:\\Users\\baljanj\\Anaconda3\\envs\\ktai\\lib\\site-packages\\IPython\\core\\interactiveshell.py:282\u001b[0m, in \u001b[0;36m_modified_open\u001b[1;34m(file, *args, **kwargs)\u001b[0m\n\u001b[0;32m    275\u001b[0m \u001b[39mif\u001b[39;00m file \u001b[39min\u001b[39;00m {\u001b[39m0\u001b[39m, \u001b[39m1\u001b[39m, \u001b[39m2\u001b[39m}:\n\u001b[0;32m    276\u001b[0m     \u001b[39mraise\u001b[39;00m \u001b[39mValueError\u001b[39;00m(\n\u001b[0;32m    277\u001b[0m         \u001b[39mf\u001b[39m\u001b[39m\"\u001b[39m\u001b[39mIPython won\u001b[39m\u001b[39m'\u001b[39m\u001b[39mt let you open fd=\u001b[39m\u001b[39m{\u001b[39;00mfile\u001b[39m}\u001b[39;00m\u001b[39m by default \u001b[39m\u001b[39m\"\u001b[39m\n\u001b[0;32m    278\u001b[0m         \u001b[39m\"\u001b[39m\u001b[39mas it is likely to crash IPython. If you know what you are doing, \u001b[39m\u001b[39m\"\u001b[39m\n\u001b[0;32m    279\u001b[0m         \u001b[39m\"\u001b[39m\u001b[39myou can use builtins\u001b[39m\u001b[39m'\u001b[39m\u001b[39m open.\u001b[39m\u001b[39m\"\u001b[39m\n\u001b[0;32m    280\u001b[0m     )\n\u001b[1;32m--> 282\u001b[0m \u001b[39mreturn\u001b[39;00m io_open(file, \u001b[39m*\u001b[39;49margs, \u001b[39m*\u001b[39;49m\u001b[39m*\u001b[39;49mkwargs)\n",
      "\u001b[1;31mFileNotFoundError\u001b[0m: [Errno 2] No such file or directory: 'output.json'"
     ]
    }
   ],
   "source": [
    "import numpy as np\n",
    "import matplotlib.pyplot as plt\n",
    "import sys\n",
    "import json\n",
    "\n",
    "# file_name = sys.argv[1]\n",
    "file_name = \"output.json\"\n",
    "f = open(file_name)\n",
    "\n",
    "colors = {\n",
    "    'a': 0,\n",
    "    'b': 1,\n",
    "    'c': 2\n",
    "}\n",
    "\n",
    "data = json.load(f)\n",
    "\n",
    "data = data[\"Call\"][-1][\"Witnesses\"][-1][\"Value\"]\n",
    "data = [[colors[x] for x in el[10:-1].split(\",\") if x.isalpha()] for el in data if el[0] == 'c']\n",
    "\n",
    "data = np.array(data).reshape((2, 3))\n",
    "\n",
    "plt.imshow(data)"
   ]
  },
  {
   "cell_type": "code",
   "execution_count": 10,
   "metadata": {},
   "outputs": [
    {
     "data": {
      "image/png": "[encoded data removed]",
      "text/html": [
       "<div style=\"vertical-align: middle;\"><strong>from_list</strong> </div><div class=\"cmap\"><img alt=\"from_list colormap\" title=\"from_list\" style=\"border: 1px solid #555;\" src=\"data:image/png;base64,iVBORw0KGgoAAAANSUhEUgAAAgAAAABACAYAAABsv8+/AAAAGHRFWHRUaXRsZQBmcm9tX2xpc3QgY29sb3JtYXBDL89FAAAAHnRFWHREZXNjcmlwdGlvbgBmcm9tX2xpc3QgY29sb3JtYXABtCnOAAAAMHRFWHRBdXRob3IATWF0cGxvdGxpYiB2My43LjAsIGh0dHBzOi8vbWF0cGxvdGxpYi5vcmePJGhDAAAAMnRFWHRTb2Z0d2FyZQBNYXRwbG90bGliIHYzLjcuMCwgaHR0cHM6Ly9tYXRwbG90bGliLm9yZ6GC92QAAAE2SURBVHic7dZBEYBADATBA03YwBPO71yQx3Qr2KrkMddeay+6XD/tez1A2zM9gEH39AAA4H8CAACCBAAABAkAAAgSAAAQJAAAIEgAAECQAACAIAEAAEECAACCBAAABAkAAAgSAAAQJAAAIEgAAECQAACAIAEAAEECAACCBAAABAkAAAgSAAAQJAAAIEgAAECQAACAIAEAAEECAACCBAAABAkAAAgSAAAQJAAAIEgAAECQAACAIAEAAEECAACCBAAABAkAAAgSAAAQJAAAIEgAAECQAACAIAEAAEECAACCBAAABAkAAAgSAAAQJAAAIEgAAECQAACAIAEAAEECAACCBAAABAkAAAgSAAAQJAAAIEgAAECQAACAIAEAAEECAACCBAAABAkAAAgSAAAQJAAAIEgAAEDQAXqRBX0Dc5rWAAAAAElFTkSuQmCC\"></div><div style=\"vertical-align: middle; max-width: 514px; display: flex; justify-content: space-between;\"><div style=\"float: left;\"><div title=\"#ff0000ff\" style=\"display: inline-block; width: 1em; height: 1em; margin: 0; vertical-align: middle; border: 1px solid #555; background-color: #ff0000ff;\"></div> under</div><div style=\"margin: 0 auto; display: inline-block;\">bad <div title=\"#00000000\" style=\"display: inline-block; width: 1em; height: 1em; margin: 0; vertical-align: middle; border: 1px solid #555; background-color: #00000000;\"></div></div><div style=\"float: right;\">over <div title=\"#804c33ff\" style=\"display: inline-block; width: 1em; height: 1em; margin: 0; vertical-align: middle; border: 1px solid #555; background-color: #804c33ff;\"></div></div>"
      ],
      "text/plain": [
       "<matplotlib.colors.ListedColormap at 0x17e0c73b820>"
      ]
     },
     "execution_count": 10,
     "metadata": {},
     "output_type": "execute_result"
    }
   ],
   "source": [
    "from matplotlib.colors import ListedColormap\n",
    "\n",
    "colors = np.array([\n",
    "    [1., 0., 0.],\n",
    "    [1., 1., 0.],\n",
    "    [0.5, 0.3, 1.],\n",
    "    [0.5, 0.3, 0.2],\n",
    "])\n",
    "\n",
    "ListedColormap(colors)"
   ]
  },
  {
   "cell_type": "code",
   "execution_count": 60,
   "metadata": {},
   "outputs": [
    {
     "name": "stdout",
     "output_type": "stream",
     "text": [
      "rule(a, right, b).\n",
      "rule(b, up, a).\n",
      "rule(b, down, c).\n",
      "rule(b, left, b).\n",
      "rule(b, up, b).\n",
      "rule(b, right, c).\n",
      "rule(a, right, a).\n",
      "rule(b, down, b).\n",
      "rule(b, left, a).\n",
      "rule(a, left, a).\n",
      "rule(c, left, b).\n",
      "rule(a, up, a).\n",
      "rule(a, down, b).\n",
      "rule(b, right, b).\n",
      "rule(a, down, a).\n",
      "rule(c, up, b).\n",
      "\n",
      "state(a).\n",
      "state(b).\n",
      "state(c).\n"
     ]
    }
   ],
   "source": [
    "class Rule:\n",
    "    def __init__(self, base, neighbour, dir):\n",
    "        self.base = base\n",
    "        self.neighbour = neighbour\n",
    "        self.dir = dir\n",
    "    \n",
    "    def __repr__(self) -> str:\n",
    "        return f\"rule({self.base}, {self.dir}, {self.neighbour}).\"\n",
    "    \n",
    "    def __hash__(self):\n",
    "        return hash(self.__repr__())\n",
    "    \n",
    "    def __eq__(self, other):\n",
    "        return (isinstance(other, Rule) and\n",
    "                (self.base == other.base) and \n",
    "                (self.neighbour == other.neighbour) and \n",
    "                (self.dir == other.dir))\n",
    "\n",
    "file_name = \"input.json\"\n",
    "f = open(file_name)\n",
    "data = json.load(f)\n",
    "\n",
    "rules = set()\n",
    "states = set()\n",
    "\n",
    "grid = data[\"pattern\"]\n",
    "height = len(data[\"pattern\"])\n",
    "width = len(data[\"pattern\"][0])\n",
    "\n",
    "\n",
    "for i in range(len(grid)):\n",
    "    for j in range(len(grid[i])):\n",
    "\n",
    "        states.add(grid[i][j])\n",
    "\n",
    "        if i - 1 >= 0:\n",
    "            rules.add(Rule(grid[i][j], grid[i-1][j], \"up\"))\n",
    "        if i + 1 < height:\n",
    "            rules.add(Rule(grid[i][j], grid[i+1][j], \"down\"))\n",
    "        if j - 1 >= 0:\n",
    "            rules.add(Rule(grid[i][j], grid[i][j-1], \"left\"))\n",
    "        if j + 1 < width:\n",
    "            rules.add(Rule(grid[i][j], grid[i][j+1], \"right\"))\n",
    "        \n",
    "\n",
    "f = open(f\"{data['file_name']}.lp\", \"w\")\n",
    "\n",
    "\n",
    "output = \"\\n\".join(map(lambda rule: rule.__repr__(), rules))\n",
    "output += \"\\n\\n\" + \"\\n\".join([f\"state({s}).\" for s in states])\n",
    "print(output)\n",
    "\n",
    "f.write(output)\n",
    "f.close()"
   ]
  }
 ],
 "metadata": {
  "kernelspec": {
   "display_name": "base",
   "language": "python",
   "name": "python3"
  },
  "language_info": {
   "codemirror_mode": {
    "name": "ipython",
    "version": 3
   },
   "file_extension": ".py",
   "mimetype": "text/x-python",
   "name": "python",
   "nbconvert_exporter": "python",
   "pygments_lexer": "ipython3",
   "version": "3.8.16"
  },
  "orig_nbformat": 4
 },
 "nbformat": 4,
 "nbformat_minor": 2
}
